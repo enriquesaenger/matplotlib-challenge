{
 "cells": [
  {
   "cell_type": "markdown",
   "metadata": {},
   "source": [
    "## Observations and Insights"
   ]
  },
  {
   "cell_type": "markdown",
   "metadata": {},
   "source": []
  },
  {
   "cell_type": "markdown",
   "metadata": {},
   "source": [
    "## Dependencies and starter code"
   ]
  },
  {
   "cell_type": "code",
   "execution_count": null,
   "metadata": {},
   "outputs": [],
   "source": [
    "# Dependencies and Setup\n",
    "import matplotlib.pyplot as plt\n",
    "import pandas as pd\n",
    "import scipy.stats as st\n",
    "from scipy.stats import linregress\n",
    "import numpy as np\n",
    "\n",
    "# Read the mouse data and the study results\n",
    "mouse_metadata = pd.read_csv(\"data/Mouse_metadata.csv\")\n",
    "study_results = pd.read_csv(\"data/Study_results.csv\")\n",
    "\n",
    "# Combine the data into a single dataset\n",
    "mice_df = pd.merge(mouse_metadata, study_results, on=\"Mouse ID\", how=\"outer\")\n",
    "\n",
    "mice_df.head()"
   ]
  },
  {
   "cell_type": "markdown",
   "metadata": {},
   "source": [
    "## Summary statistics"
   ]
  },
  {
   "cell_type": "code",
   "execution_count": null,
   "metadata": {},
   "outputs": [],
   "source": [
    "## Generate a summary statistics table of mean, median, variance, standard deviation, and SEM of the tumor volume for each regimen\n",
    "\n",
    "# create summary dataframe with requested statistics\n",
    "summary_df = pd.DataFrame({\"Mean Tumor Volume (mm3)\": mice_df[\"Tumor Volume (mm3)\"].groupby(mice_df[\"Drug Regimen\"]).mean(),\n",
    "                          \"Median Tumor Volume (mm3)\": mice_df[\"Tumor Volume (mm3)\"].groupby(mice_df[\"Drug Regimen\"]).median(),\n",
    "                          \"Variance of Tumor Volume (mm3)\": mice_df[\"Tumor Volume (mm3)\"].groupby(mice_df[\"Drug Regimen\"]).var(),\n",
    "                          \"Standard Deviation for Tumor Volume (mm3)\": mice_df[\"Tumor Volume (mm3)\"].groupby(mice_df[\"Drug Regimen\"]).std(),\n",
    "                          \"SEM of Tumor Volume (mm3)\": mice_df[\"Tumor Volume (mm3)\"].groupby(mice_df[\"Drug Regimen\"]).sem()})\n",
    "summary_df"
   ]
  },
  {
   "cell_type": "markdown",
   "metadata": {},
   "source": [
    "## Bar plots"
   ]
  },
  {
   "cell_type": "code",
   "execution_count": null,
   "metadata": {},
   "outputs": [],
   "source": [
    "## Generate a bar plot showing number of data points for each treatment regimen using pandas and pyplot\n",
    "\n",
    "# create sorted list of drug names\n",
    "drug_list = sorted(mice_df[\"Drug Regimen\"].unique().tolist())\n",
    "\n",
    "# make tick locations with drug_list\n",
    "tick_locations = np.arange(len(drug_list))\n",
    "\n",
    "# title and labels\n",
    "bar_title = \"Number of Data Points per Drug Regimen\"\n",
    "bar_xlabel = \"Drug Regimen\"\n",
    "bar_ylabel = \"Number of Data Points\""
   ]
  },
  {
   "cell_type": "code",
   "execution_count": null,
   "metadata": {},
   "outputs": [],
   "source": [
    "## Bar Plot using Pandas\n",
    "\n",
    "# create a new series with only the drug name and number of data points\n",
    "drug_and_count = mice_df[\"Tumor Volume (mm3)\"].groupby(mice_df[\"Drug Regimen\"]).count()\n",
    "\n",
    "# create bar plot using pandas\n",
    "drug_and_count.plot(kind=\"bar\", legend=False, width=.8)\n",
    "\n",
    "# assign xticks and rotate 45 degrees\n",
    "plt.xticks(tick_locations, drug_list, rotation=45)\n",
    "\n",
    "# give plot a title and label\n",
    "plt.title(bar_title)\n",
    "plt.ylabel(bar_ylabel)\n",
    "\n",
    "# display plot\n",
    "plt.show()"
   ]
  },
  {
   "cell_type": "code",
   "execution_count": null,
   "metadata": {},
   "outputs": [],
   "source": [
    "# Bar Plot using PyPlot\n",
    "\n",
    "# create bar plot using pyplot\n",
    "plt.bar(drug_list, mice_df[\"Drug Regimen\"].groupby(mice_df[\"Drug Regimen\"]).value_counts())\n",
    "\n",
    "# assign xticks and rotate 45 degrees\n",
    "plt.xticks(tick_locations, drug_list, rotation=45)\n",
    "\n",
    "# give plot a title and label\n",
    "plt.title(bar_title)\n",
    "plt.xlabel(bar_xlabel)\n",
    "plt.ylabel(bar_ylabel)\n",
    "\n",
    "# display plot\n",
    "plt.show()"
   ]
  },
  {
   "cell_type": "markdown",
   "metadata": {},
   "source": [
    "## Pie plots"
   ]
  },
  {
   "cell_type": "code",
   "execution_count": null,
   "metadata": {},
   "outputs": [],
   "source": [
    "# Generate a pie plot showing the distribution of female versus male mice using pandas and pyplot\n",
    "\n",
    "# title and label for plots\n",
    "pie_title = \"Distribution of Female versus Male Mice\"\n",
    "pie_ylabel = \"Sex\""
   ]
  },
  {
   "cell_type": "code",
   "execution_count": null,
   "metadata": {},
   "outputs": [],
   "source": [
    "## Pie Plot using Pandas\n",
    "\n",
    "# create series for gender counts\n",
    "gender_s = mice_df[\"Sex\"].value_counts()\n",
    "\n",
    "# create the pie plot\n",
    "gender_s.plot(kind=\"pie\", autopct='%1.1f%%', shadow=True)\n",
    "\n",
    "# assign title to plot\n",
    "plt.title(pie_title)\n",
    "\n",
    "# show plot\n",
    "plt.show()"
   ]
  },
  {
   "cell_type": "code",
   "execution_count": null,
   "metadata": {},
   "outputs": [],
   "source": [
    "## Pie Plot using PyPlot\n",
    "\n",
    "# gender list for plot labels\n",
    "gender_list = [\"Male\", \"Female\"]\n",
    "\n",
    "# create plot\n",
    "plt.pie(gender_s, labels=gender_list, autopct='%1.1f%%', shadow=True)\n",
    "\n",
    "# assign title and label to plot\n",
    "plt.title(pie_title)\n",
    "plt.ylabel(pie_ylabel)\n",
    "\n",
    "# show plot\n",
    "plt.show()"
   ]
  },
  {
   "cell_type": "markdown",
   "metadata": {},
   "source": [
    "## Quartiles, outliers and boxplots"
   ]
  },
  {
   "cell_type": "code",
   "execution_count": null,
   "metadata": {},
   "outputs": [],
   "source": [
    "# Find the 4 \"most promising\" treatments\n",
    "# This will be determined by highest median final tumor volume\n",
    "\n",
    "# find final tumor volume for each mouse\n",
    "final_size = mice_df.loc[mice_df[\"Timepoint\"] == 45]\n",
    "\n",
    "# calculate median tumor size by drug regimen\n",
    "median_size_df = pd.DataFrame({\"Median Final Tumor Volume (mm3)\": final_size[\"Tumor Volume (mm3)\"].groupby([final_size[\"Drug Regimen\"]]).median()})\n",
    "\n",
    "# find 4 smallest values\n",
    "lowest_medians = median_size_df.nsmallest(4, \"Median Final Tumor Volume (mm3)\")\n",
    "\n",
    "# make a list of the four most promising treatments (based on median final tumor volume)\n",
    "best_regimens_list = lowest_medians.index.values.tolist()\n",
    "best_regimens_list.sort()\n",
    "\n",
    "# find all mice that had these treatments in final_size\n",
    "best_regimens = final_size.loc[final_size[\"Drug Regimen\"].isin(best_regimens_list)]\n",
    "\n",
    "# create a series for each treatment with all final tumor volumes\n",
    "treatment1 = best_regimens.loc[best_regimens[\"Drug Regimen\"] == best_regimens_list[0], \"Tumor Volume (mm3)\"]\n",
    "treatment2 = best_regimens.loc[best_regimens[\"Drug Regimen\"] == best_regimens_list[1], \"Tumor Volume (mm3)\"]\n",
    "treatment3 = best_regimens.loc[best_regimens[\"Drug Regimen\"] == best_regimens_list[2], \"Tumor Volume (mm3)\"]\n",
    "treatment4 = best_regimens.loc[best_regimens[\"Drug Regimen\"] == best_regimens_list[3], \"Tumor Volume (mm3)\"]\n",
    "\n",
    "# create a list for each treatment with all final tumor volumes\n",
    "treatment1_list = best_regimens.loc[best_regimens[\"Drug Regimen\"] == best_regimens_list[0], \"Tumor Volume (mm3)\"].tolist()\n",
    "treatment2_list = best_regimens.loc[best_regimens[\"Drug Regimen\"] == best_regimens_list[1], \"Tumor Volume (mm3)\"].tolist()\n",
    "treatment3_list = best_regimens.loc[best_regimens[\"Drug Regimen\"] == best_regimens_list[2], \"Tumor Volume (mm3)\"].tolist()\n",
    "treatment4_list = best_regimens.loc[best_regimens[\"Drug Regimen\"] == best_regimens_list[3], \"Tumor Volume (mm3)\"].tolist()"
   ]
  },
  {
   "cell_type": "code",
   "execution_count": null,
   "metadata": {},
   "outputs": [],
   "source": [
    "# make a function for iqr\n",
    "def iqr(treatment, volumes_list, index):\n",
    "    # calculate quartiles and IQR\n",
    "    quartiles = treatment.quantile([.25,.5,.75])\n",
    "    lowerq = quartiles[.25]\n",
    "    upperq = quartiles[.75]\n",
    "    iqr = upperq-lowerq\n",
    "    \n",
    "    # calculate upper and lower boundaries\n",
    "    upper_bound = upperq + (1.5*iqr)\n",
    "    lower_bound = lowerq - (1.5*iqr)\n",
    "    \n",
    "    # determine if there are any outliers in the dataset\n",
    "    outliers = []\n",
    "    for volume in volumes_list:\n",
    "        if volume > upper_bound or volume < lower_bound:\n",
    "            outliers1.append(volume)\n",
    "\n",
    "    # remove any outliers from the dataset\n",
    "    #for outlier in outliers:\n",
    "        #if outlier in volumes_list: volumes_list.remove(outlier)\n",
    "    ### comment back in if wanting outliers removed\n",
    "\n",
    "    # print out IQR, upper and lower bounds, and outliers\n",
    "    print(f\"The IQR for Final Tumor Volume for {best_regimens_list[index]} is: {round(iqr, 2)} mm3\\n\")\n",
    "    print(f\"Values below {round(lower_bound, 2)} mm3 cound be outliers.\")\n",
    "    print(f\"Values above {round(upper_bound, 2)} mm3 cound be outliers.\\n\")\n",
    "    print(f\"The following outliers have been found:\\n\"\n",
    "          f\"{outliers}\\n\"\n",
    "          f\"---------------------------------------------------------\")"
   ]
  },
  {
   "cell_type": "code",
   "execution_count": null,
   "metadata": {},
   "outputs": [],
   "source": [
    "# print iqr and quartiles for each of the 4 regimens\n",
    "iqr(treatment1, treatment1_list, 0)\n",
    "iqr(treatment2, treatment2_list, 1)\n",
    "iqr(treatment3, treatment3_list, 2)\n",
    "iqr(treatment4, treatment4_list, 3)"
   ]
  },
  {
   "cell_type": "code",
   "execution_count": null,
   "metadata": {},
   "outputs": [],
   "source": [
    "# Generate a box plot of the final tumor volume of each mouse across four regimens of interest\n",
    "data = [treatment1, treatment2, treatment3, treatment4]\n",
    "fig, ax = plt.subplots()\n",
    "ax.set_title(f\"Final Tumor Volumes for\\n\"\n",
    "              f\"{best_regimens_list[0]}, {best_regimens_list[1]}, {best_regimens_list[2]}, and {best_regimens_list[3]}\")\n",
    "ax.set_ylabel(\"Tumor Volume (mm3)\")\n",
    "ax.set_xticklabels(best_regimens_list)\n",
    "\n",
    "# Add a horizontal grid to the plot, but make it very light in color\n",
    "# so we can use it for reading data values but not be distracting @borrowed\n",
    "ax.yaxis.grid(True, linestyle='-', which='major', color='lightgrey',\n",
    "               alpha=0.5)\n",
    "\n",
    "# Hide these grid behind plot objects @also borrowed\n",
    "ax.set_axisbelow(True)\n",
    "\n",
    "ax.boxplot(data)\n",
    "plt.show()"
   ]
  },
  {
   "cell_type": "markdown",
   "metadata": {},
   "source": [
    "## Line and scatter plots"
   ]
  },
  {
   "cell_type": "code",
   "execution_count": null,
   "metadata": {},
   "outputs": [],
   "source": [
    "## Generate a line plot of time point versus tumor volume for a mouse treated with Capomulin\n",
    "\n",
    "# create variable for requested regimen\n",
    "regimen = \"Capomulin\"\n",
    "mouse_id = \"s185\"\n",
    "\n",
    "# create new dataframe with data for requested regimen\n",
    "regimen_df = mice_df.loc[mice_df[\"Drug Regimen\"] == regimen]\n",
    "mouse_data = regimen_df.loc[regimen_df[\"Mouse ID\"] == mouse_id]\n",
    "\n",
    "# clean up data frame for plotting\n",
    "mouse_data = mouse_data[[\"Timepoint\", \"Tumor Volume (mm3)\"]]\n",
    "\n",
    "time_data = mouse_data.set_index(\"Timepoint\")\n",
    "\n",
    "time_data.plot.line(legend=False)\n",
    "\n",
    "plt.title(f\"Timepoint versus Tumor Volume for\\n\"\n",
    "          f\"mouse: {mouse_id} treated with {regimen}\")\n",
    "plt.ylabel(\"Tumor Volume (mm3)\")\n",
    "plt.show()"
   ]
  },
  {
   "cell_type": "code",
   "execution_count": null,
   "metadata": {},
   "outputs": [],
   "source": [
    "## Generate a scatter plot of mouse weight versus average tumor volume for the Capomulin regimen\n",
    "\n",
    "# create data frame with only Capomulin data\n",
    "capomulin_df = mice_df.loc[mice_df[\"Drug Regimen\"] == \"Capomulin\", :]\n",
    "\n",
    "# create data frame with average tumor volume and average weight per mouse on Capomulin\n",
    "size_and_weight = pd.DataFrame(\n",
    "    {\n",
    "        \"Avg Tumor Volume (mm3)\": capomulin_df[\"Tumor Volume (mm3)\"].groupby(capomulin_df[\"Mouse ID\"]).mean(),\n",
    "        \"Avg Weight (g)\": capomulin_df[\"Weight (g)\"].groupby(capomulin_df[\"Mouse ID\"]).mean()\n",
    "    }\n",
    ")\n",
    "\n",
    "# create scatter plot\n",
    "plt.scatter(size_and_weight[\"Avg Weight (g)\"], size_and_weight[\"Avg Tumor Volume (mm3)\"])\n",
    "\n",
    "# give plot title and labels\n",
    "plt.title(\"Mouse Weight vs Avg Tumor Volume\\n\"\n",
    "          \"for the Capomulin Regimen\")\n",
    "plt.xlabel(\"Mouse Weight (g)\")\n",
    "plt.ylabel(\"Average Tumor Volume (mm3)\")\n",
    "\n",
    "# display plot\n",
    "plt.show()"
   ]
  },
  {
   "cell_type": "code",
   "execution_count": null,
   "metadata": {},
   "outputs": [],
   "source": [
    "# Calculate the correlation coefficient and linear regression model for \n",
    "# mouse weight and average tumor volume for the Capomulin regimen\n",
    "\n",
    "x_values = size_and_weight[\"Avg Weight (g)\"]\n",
    "y_values = size_and_weight[\"Avg Tumor Volume (mm3)\"]\n",
    "(slope, intercept, rvalue, pvalue, stderr) = linregress(x_values, y_values)\n",
    "regress_values = x_values * slope + intercept\n",
    "line_eq = f\"y = {str(round(slope, 2))}x + {str(round(intercept, 2))}\"\n",
    "plt.scatter(x_values, y_values)\n",
    "plt.plot(x_values, regress_values, \"r-\")\n",
    "plt.annotate(line_eq, (18, 37), fontsize=15, color=\"red\")\n",
    "\n",
    "plt.title(\n",
    "    f\"Linear Regression Model\\n\"\n",
    "    f\"for Mouse Weight vs Average Tumor Volume\\n\"\n",
    "    f\"for the Capomulin Regimen\")\n",
    "plt.xlabel(\"Mouse Weight (g)\")\n",
    "plt.ylabel(\"Average Tumor Volume (mm3)\")\n",
    "\n",
    "rsquared = rvalue ** 2\n",
    "print(f\"The r-value is: {rvalue}\\n\"\n",
    "      f\"The r-squared is: {rsquared}\")\n",
    "\n",
    "plt.show()"
   ]
  },
  {
   "cell_type": "code",
   "execution_count": null,
   "metadata": {},
   "outputs": [],
   "source": []
  },
  {
   "cell_type": "code",
   "execution_count": null,
   "metadata": {},
   "outputs": [],
   "source": []
  }
 ],
 "metadata": {
  "anaconda-cloud": {},
  "kernelspec": {
   "display_name": "Python 3",
   "language": "python",
   "name": "python3"
  },
  "language_info": {
   "codemirror_mode": {
    "name": "ipython",
    "version": 3
   },
   "file_extension": ".py",
   "mimetype": "text/x-python",
   "name": "python",
   "nbconvert_exporter": "python",
   "pygments_lexer": "ipython3",
   "version": "3.6.9"
  }
 },
 "nbformat": 4,
 "nbformat_minor": 4
}
